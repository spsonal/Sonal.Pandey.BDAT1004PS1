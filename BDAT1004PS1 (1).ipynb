{
 "cells": [
  {
   "cell_type": "markdown",
   "id": "a6f775fd",
   "metadata": {},
   "source": [
    "# BDAT 1004 PROBLEM SET 1\n"
   ]
  },
  {
   "cell_type": "markdown",
   "id": "d35163fa",
   "metadata": {},
   "source": [
    "## Q. 1\n",
    "#### What data type is each of the following (evaluate where necessary)?\n",
    "<ol>\n",
    "<li>5</li>\n",
    "<li>5.0</li>\n",
    "<li>5 > 1</li>\n",
    "<li>'5'</li>\n",
    "<li>5 * 2</li>\n",
    "<li>'5' * 2</li>\n",
    "<li>'5' + '2'</li>\n",
    "<li>5 / 2</li>\n",
    "<li>5 % 2</li>\n",
    "<li>{5, 2, 1}</li>\n",
    "<li>5 == 3</li>\n",
    "<li>Pi (the number)</li>\n",
    "</ol>\n",
    "\n"
   ]
  },
  {
   "cell_type": "code",
   "execution_count": 2,
   "id": "6ed480c0",
   "metadata": {},
   "outputs": [
    {
     "name": "stdout",
     "output_type": "stream",
     "text": [
      "<class 'int'>\n",
      "<class 'float'>\n",
      "<class 'bool'>\n",
      "<class 'int'>\n",
      "<class 'int'>\n",
      "<class 'str'>\n",
      "<class 'str'>\n",
      "<class 'float'>\n",
      "<class 'int'>\n",
      "<class 'set'>\n",
      "<class 'bool'>\n",
      "<class 'float'>\n"
     ]
    }
   ],
   "source": [
    "# 1\n",
    "print(type(5))  \n",
    "\n",
    "# 2\n",
    "print(type(5.0))  \n",
    "\n",
    "# 3\n",
    "print(type(5 > 1))  \n",
    "\n",
    "# 4\n",
    "print(type(5))  \n",
    "\n",
    "# 5\n",
    "print(type(5 * 2))  \n",
    "\n",
    "# 6\n",
    "print(type('5' * 2))  \n",
    "\n",
    "# 7\n",
    "print(type('5' + '2'))  \n",
    "\n",
    "# 8\n",
    "print(type(5 / 2))  \n",
    "\n",
    "# 9\n",
    "print(type(5 % 2))  \n",
    "\n",
    "# 10\n",
    "print(type({5, 2, 1}))  \n",
    "\n",
    "# 11\n",
    "print(type(5 == 3))  \n",
    "\n",
    "# 12\n",
    "import math\n",
    "print(type(math.pi))  \n"
   ]
  },
  {
   "cell_type": "markdown",
   "id": "da28179b",
   "metadata": {},
   "source": [
    "## Q 2\n",
    "#### Write (and evaluate) python expressions that answer these questions:<br>\n",
    "#### 2.1 How many letters are there in 'Supercalifragilisticexpialidocious'?<br>\n",
    "#### 2. 2 Does 'Supercalifragilisticexpialidocious' contain 'ice' as a substring?<br>\n",
    "#### 2.3 Which of the following words is the longest:\n",
    "#### Supercalifragilisticexpialidocious, Honorificabilitudinitatibus, or Bababadalgharaghtakamminarronnkonn?<br>\n",
    "#### 2.4 Which composer comes first in the dictionary: 'Berlioz', 'Borodin', 'Brian', 'Bartok', 'Bellini', 'Buxtehude', 'Bernstein'. Which one comes last?"
   ]
  },
  {
   "cell_type": "code",
   "execution_count": 6,
   "id": "d9183a16",
   "metadata": {},
   "outputs": [
    {
     "name": "stdout",
     "output_type": "stream",
     "text": [
      "34\n",
      "True\n",
      "Supercalifragilisticexpialidocious\n",
      "The First Composer in the Dictionary is :  Bartok\n",
      "The Last  Composer in the Dictionary is :  Buxtehude\n"
     ]
    }
   ],
   "source": [
    "# 2.1\n",
    "word = 'Supercalifragilisticexpialidocious'\n",
    "word_len = len(word)\n",
    "print(word_len)\n",
    "\n",
    "# 2.2\n",
    "substring = 'ice'\n",
    "contains_substring = substring in word\n",
    "print(contains_substring)  \n",
    "\n",
    "# 2.3\n",
    "word1 = 'Supercalifragilisticexpialidocious'\n",
    "word2 = 'Honorificabilitudinitatibus'\n",
    "word3 = 'Bababadalgharaghtakamminarronnkonn'\n",
    "\n",
    "longest_word = max(word1, word2, word3, key=len)\n",
    "print(longest_word) \n",
    "\n",
    "# d\n",
    "composers = ['Berlioz', 'Borodin', 'Brian', 'Bartok', 'Bellini', 'Buxtehude', 'Bernstein']\n",
    "first_in_dict = min(composers)\n",
    "last_in_dict = max(composers)\n",
    "print(\"The First Composer in the Dictionary is : \", first_in_dict)  \n",
    "print(\"The Last  Composer in the Dictionary is : \", last_in_dict)  \n"
   ]
  },
  {
   "cell_type": "markdown",
   "id": "7dfaaf19",
   "metadata": {},
   "source": [
    "## Q. 3\n",
    "#### Implement function triangleArea(a,b,c) that takes as input the lengths of the 3 sides of a triangle and returns the area of the triangle. By Heron's formula, the area of a triangle with side lengths a, b, and c is s(s - a)(s -b)(s -c), where s = (a+b+c)/2\n",
    "####   >>> triangleArea(2,2,2)\n",
    "> 1.7320508075688772\n"
   ]
  },
  {
   "cell_type": "code",
   "execution_count": 7,
   "id": "8ee00255",
   "metadata": {},
   "outputs": [
    {
     "name": "stdout",
     "output_type": "stream",
     "text": [
      "Enter the lengths of sides a, b and c of the traingle ->\n",
      "Enter length of side a:5\n",
      "Enter lenght of side b:4\n",
      "Enter length of side c:5\n",
      "Area of Triangle :  9.16515138991168\n"
     ]
    }
   ],
   "source": [
    "import math\n",
    "a, b, c, s = 0.0, 0.0, 0.0, 0.0\n",
    "print(\"Enter the lengths of sides a, b and c of the traingle ->\")\n",
    "a, b, c = float(input('Enter length of side a:')), float(input('Enter lenght of side b:')), float(input('Enter length of side c:'))\n",
    "def triangleArea(a, b, c):\n",
    "    # Calculate the semi-perimeter\n",
    "    s = (a + b + c) / 2\n",
    "\n",
    "    # Calculate the area using Heron's formula\n",
    "    area = math.sqrt(s * (s - a) * (s - b) * (s - c))\n",
    "\n",
    "    return area\n",
    "\n",
    "# Test the function\n",
    "area_of_triangle = triangleArea(a, b, c)\n",
    "print(\"Area of Triangle : \",area_of_triangle)  \n"
   ]
  },
  {
   "cell_type": "markdown",
   "id": "1c7213f5",
   "metadata": {},
   "source": [
    "## Q. 4\n",
    "#### Write a program in python to separate odd and even integers in separate arrays. Go to the editor \n",
    "#### Test Data : \n",
    "#### Input the number of elements to be stored in the array :5 \n",
    "#### Input 5 elements in the array :\n",
    "#### element - 0 : 25 \n",
    "#### element - 1 : 47 \n",
    "#### element - 2 : 42 \n",
    "#### element - 3 : 56 \n",
    "#### element - 4 : 32 \n",
    "#### Expected Output: \n",
    "#### The Even elements are: 42 56 32 \n",
    "#### The Odd elements are : 25 47"
   ]
  },
  {
   "cell_type": "code",
   "execution_count": 19,
   "id": "09d21282",
   "metadata": {},
   "outputs": [
    {
     "name": "stdout",
     "output_type": "stream",
     "text": [
      "Input the number of elements to be stored in the array: 3\n",
      "element - 0 : 3\n",
      "element - 1 : 4\n",
      "element - 2 : 3\n",
      "The Even elements are:\n",
      "4 \n",
      "The Odd elements are:\n",
      "3 3 "
     ]
    }
   ],
   "source": [
    "num_elements_array = int(input(\"Input the number of elements to be stored in the array: \"))\n",
    "\n",
    "array = []\n",
    "for i in range(num_elements_array):\n",
    "    element = int(input(f\"element - {i} : \"))\n",
    "    array.append(element)\n",
    "\n",
    "even_numbers = []\n",
    "odd_numbers = []\n",
    "\n",
    "for num in array:\n",
    "    if num % 2 == 0:\n",
    "        even_numbers.append(num)\n",
    "    else:\n",
    "        odd_numbers.append(num)\n",
    "\n",
    "\n",
    "print(\"The Even elements are:\")\n",
    "for even in even_numbers:\n",
    "    print(even, end=\" \")\n",
    "\n",
    "print(\"\\nThe Odd elements are:\")\n",
    "for odd in odd_numbers:\n",
    "    print(odd, end=\" \")\n"
   ]
  },
  {
   "cell_type": "markdown",
   "id": "c10a1ab4",
   "metadata": {},
   "source": [
    "## Q. 5 \n",
    "####  a.  Write a function inside(x,y,x1,y1,x2,y2) that returns True or False depending on whether the point (x,y) lies in the rectangle with lower left corner (x1,y1) and upper right corner (x2,y2).\n",
    "####   >>> inside(1,1,0,0,2,3)\n",
    "> True\n",
    "####   >>> inside(-1,-1,0,0,2,3)\n",
    "> False\n",
    "####  b.  Use function inside() from part a. to write an expression that tests whether the point (1,1) lies in both of the following rectangles: one with lower left corner (0.3, 0.5) and upper right corner (1.1, 0.7) and the other with lower left corner (0.5, 0.2) and upper right corner (1.1, 2)."
   ]
  },
  {
   "cell_type": "code",
   "execution_count": 17,
   "id": "05dd02c6",
   "metadata": {},
   "outputs": [
    {
     "name": "stdout",
     "output_type": "stream",
     "text": [
      "a. -> \n",
      "True\n",
      "False\n",
      "\n",
      "b. -> \n",
      "False\n",
      "True\n"
     ]
    }
   ],
   "source": [
    "def inside(x, y, x1, y1, x2, y2):\n",
    "    if x >= x1 and x <= x2 and y >= y1 and y <= y2:\n",
    "        return True\n",
    "    else:\n",
    "        return False\n",
    "\n",
    "# Test the function\n",
    "print(\"a. -> \")\n",
    "print(inside(1, 1, 0, 0, 2, 3))  \n",
    "print(inside(-1, -1, 0, 0, 2, 3))  \n",
    "\n",
    "# Test the point (1, 1) in both rectangles\n",
    "result_1 = inside(1, 1, 0.3, 0.5, 1.1, 0.7)\n",
    "result_2 = inside(1, 1, 0.5, 0.2, 1.1, 2)\n",
    "\n",
    "print(\"\\nb. -> \")\n",
    "print(result_1)  \n",
    "print(result_2)  "
   ]
  },
  {
   "cell_type": "markdown",
   "id": "90e42313",
   "metadata": {},
   "source": [
    "## Q. 6\n",
    "#### You can turn a word into pig-Latin using the following two rules (simplified):\n",
    "#### • If the word starts with a consonant, move that letter to the end and append 'ay'. For example, 'happy' becomes 'appyhay' and 'pencil' becomes 'encilpay'.\n",
    "#### • If the word starts with a vowel, simply append 'way' to the end of the word.\n",
    "#### For example, 'enter' becomes 'enterway' and 'other' becomes 'otherway' . For our purposes, there are 5 vowels: a, e, i, o, u (so we count y as a consonant).\n",
    "#### Write a function pig() that takes a word (i.e., a string) as input and returns its pigLatin form. Your function should still work if the input word contains upper case characters. Your output should always be lower case however.\n",
    "#### >>> pig('happy')\n",
    ">'appyhay'\n",
    "#### >>> pig('Enter')\n",
    ">'enterway'"
   ]
  },
  {
   "cell_type": "code",
   "execution_count": 16,
   "id": "6a92d36e",
   "metadata": {},
   "outputs": [
    {
     "name": "stdout",
     "output_type": "stream",
     "text": [
      "happy in pig-Latin :  appyhay\n",
      "Enter in pig-Latin :  enterway\n"
     ]
    }
   ],
   "source": [
    "def pig(word):\n",
    "    # Convert the word to lowercase\n",
    "    word = word.lower()\n",
    "\n",
    "    # Check if the word starts with a vowel\n",
    "    vowels = ['a', 'e', 'i', 'o', 'u']\n",
    "    if word[0] in vowels:\n",
    "        pig_latin = word + 'way'\n",
    "    else:\n",
    "        pig_latin = word[1:] + word[0] + 'ay'\n",
    "\n",
    "    return pig_latin\n",
    "\n",
    "\n",
    "print(\"happy in pig-Latin : \",pig('happy'))  \n",
    "print(\"Enter in pig-Latin : \",pig('Enter'))  "
   ]
  },
  {
   "cell_type": "markdown",
   "id": "8e4e8b4d",
   "metadata": {},
   "source": [
    "## Q. 7\n",
    "#### File bloodtype1.txt records blood-types of patients (A, B, AB, O or OO) at a clinic.\n",
    "#### Write a function bldcount() that reads the file with name name and reports (i.e.prints) how many patients there are in each bloodtype.\n",
    "#### >>> bldcount('bloodtype.txt')\n",
    ">There are 10 patients of blood type A.<br>\n",
    ">There is one patient of blood type B.<br>\n",
    ">There are 10 patients of blood type AB.<br>\n",
    ">There are 12 patients of blood type O.<br>\n",
    ">There are no patients of blood type OO.<br>"
   ]
  },
  {
   "cell_type": "code",
   "execution_count": 15,
   "id": "4b54b10a",
   "metadata": {},
   "outputs": [
    {
     "name": "stdout",
     "output_type": "stream",
     "text": [
      "There are 15 patients of blood type A.\n",
      "There is 1 patient of blood type B.\n",
      "There are 13 patients of blood type AB.\n",
      "There are 15 patients of blood type O.\n",
      "There are 0 patients of blood type OO.\n"
     ]
    }
   ],
   "source": [
    "def bldcount(filename):\n",
    "    # Initialize a dictionary to store the blood type counts\n",
    "    blood_counts = {'A': 0, 'B': 0, 'AB': 0, 'O': 0, 'OO': 0}\n",
    "\n",
    "    # Read the file and count the blood types\n",
    "    with open(filename, 'r') as file:\n",
    "        blood_data = file.read().split()\n",
    "        for blood_type in blood_data:\n",
    "            blood_counts[blood_type] += 1\n",
    "\n",
    "    # Print the blood type counts\n",
    "    for blood_type, count in blood_counts.items():\n",
    "        if count == 1:\n",
    "            print(f\"There is 1 patient of blood type {blood_type}.\")\n",
    "        else:\n",
    "            print(f\"There are {count} patients of blood type {blood_type}.\")\n",
    "\n",
    "# Test the function\n",
    "bldcount('bloodtype.txt')\n"
   ]
  },
  {
   "cell_type": "markdown",
   "id": "accdb7e1",
   "metadata": {},
   "source": [
    "## Q. 8\n",
    "#### Write a function curconv() that takes as input:\n",
    "#### 1. a currency represented using a string (e.g., 'JPY' for the Japanese Yen or 'EUR' for the Euro)\n",
    "#### 2. an amount \n",
    "#### and then converts and returns the amount in US dollars.\n",
    "#### >>> curconv('EUR', 100)\n",
    ">122.96544\n",
    "#### >>> curconv('JPY', 100)\n",
    ">1.241401\n",
    "#### The currency rates you will need are stored in file currencies.txt\n",
    "\n"
   ]
  },
  {
   "cell_type": "code",
   "execution_count": 13,
   "id": "60c330a2",
   "metadata": {},
   "outputs": [
    {
     "name": "stdout",
     "output_type": "stream",
     "text": [
      "100 EURO in USD :  122.96544\n",
      "100 YEN in USD :  1.241401\n"
     ]
    }
   ],
   "source": [
    "def curconv(currency, amount):\n",
    "    # Read the currency rates from the file\n",
    "    rates = {}\n",
    "    with open('currencies.txt', 'r') as file:\n",
    "        for line in file:\n",
    "            parts = line.split()\n",
    "            rates[parts[0]] = float(parts[1])\n",
    "\n",
    "    # Convert the amount to US dollars\n",
    "    if currency in rates:\n",
    "        usd_amount = amount * rates[currency]\n",
    "        return usd_amount\n",
    "    else:\n",
    "        return 'Currency not found.'\n",
    "\n",
    "# Test the function\n",
    "print(\"100 EURO in USD : \",curconv('EUR', 100))  \n",
    "print(\"100 YEN in USD : \",curconv('JPY', 100))  \n"
   ]
  },
  {
   "cell_type": "markdown",
   "id": "6f2e361f",
   "metadata": {},
   "source": [
    "## Q. 9\n",
    "#### Each of the following will cause an exception (an error). Identify what type of exception each will cause.\n",
    "<ol>\n",
    "<li>Trying to add incompatible variables, as in adding 6 + ‘a’</li>\n",
    "<li>Referring to the 12th item of a list that has only 10 items</li>\n",
    "<li>Using a value that is out of range for a function’s input, such as calling math.sqrt(-1.0)</li>\n",
    "<li>Using an undeclared variable, such as print(x) when x has not been defined</li>\n",
    "<li>Trying to open a file that does not exist, such as mistyping the file name or looking in the wrong directory.</li>\n",
    "</ol>"
   ]
  },
  {
   "cell_type": "code",
   "execution_count": 5,
   "id": "0127599d",
   "metadata": {},
   "outputs": [
    {
     "ename": "TypeError",
     "evalue": "unsupported operand type(s) for +: 'int' and 'str'",
     "output_type": "error",
     "traceback": [
      "\u001b[1;31m---------------------------------------------------------------------------\u001b[0m",
      "\u001b[1;31mTypeError\u001b[0m                                 Traceback (most recent call last)",
      "Cell \u001b[1;32mIn[5], line 2\u001b[0m\n\u001b[0;32m      1\u001b[0m \u001b[38;5;66;03m# 1. Trying to add incompatible variables\u001b[39;00m\n\u001b[1;32m----> 2\u001b[0m \u001b[38;5;241;43m6\u001b[39;49m\u001b[43m \u001b[49m\u001b[38;5;241;43m+\u001b[39;49m\u001b[43m \u001b[49m\u001b[38;5;124;43m'\u001b[39;49m\u001b[38;5;124;43ma\u001b[39;49m\u001b[38;5;124;43m'\u001b[39;49m\n\u001b[0;32m      3\u001b[0m \u001b[38;5;28mprint\u001b[39m()\n",
      "\u001b[1;31mTypeError\u001b[0m: unsupported operand type(s) for +: 'int' and 'str'"
     ]
    }
   ],
   "source": [
    "# 1. Trying to add incompatible variables\n",
    "6 + 'a'\n",
    "print()\n"
   ]
  },
  {
   "cell_type": "code",
   "execution_count": 7,
   "id": "739abc5b",
   "metadata": {},
   "outputs": [
    {
     "ename": "IndexError",
     "evalue": "list index out of range",
     "output_type": "error",
     "traceback": [
      "\u001b[1;31m---------------------------------------------------------------------------\u001b[0m",
      "\u001b[1;31mIndexError\u001b[0m                                Traceback (most recent call last)",
      "Cell \u001b[1;32mIn[7], line 3\u001b[0m\n\u001b[0;32m      1\u001b[0m \u001b[38;5;66;03m# 2. Referring to the 12th item of a list that has only 10 items\u001b[39;00m\n\u001b[0;32m      2\u001b[0m list_a \u001b[38;5;241m=\u001b[39m [\u001b[38;5;241m1\u001b[39m, \u001b[38;5;241m2\u001b[39m, \u001b[38;5;241m3\u001b[39m, \u001b[38;5;241m4\u001b[39m, \u001b[38;5;241m5\u001b[39m, \u001b[38;5;241m6\u001b[39m, \u001b[38;5;241m7\u001b[39m, \u001b[38;5;241m8\u001b[39m, \u001b[38;5;241m9\u001b[39m, \u001b[38;5;241m10\u001b[39m]\n\u001b[1;32m----> 3\u001b[0m item \u001b[38;5;241m=\u001b[39m \u001b[43mlist_a\u001b[49m\u001b[43m[\u001b[49m\u001b[38;5;241;43m11\u001b[39;49m\u001b[43m]\u001b[49m\n\u001b[0;32m      4\u001b[0m \u001b[38;5;28mprint\u001b[39m()\n",
      "\u001b[1;31mIndexError\u001b[0m: list index out of range"
     ]
    }
   ],
   "source": [
    "# 2. Referring to the 12th item of a list that has only 10 items\n",
    "list_a = [1, 2, 3, 4, 5, 6, 7, 8, 9, 10]\n",
    "item = list_a[11]\n",
    "print()"
   ]
  },
  {
   "cell_type": "code",
   "execution_count": 8,
   "id": "9fe8ccca",
   "metadata": {},
   "outputs": [
    {
     "ename": "ValueError",
     "evalue": "math domain error",
     "output_type": "error",
     "traceback": [
      "\u001b[1;31m---------------------------------------------------------------------------\u001b[0m",
      "\u001b[1;31mValueError\u001b[0m                                Traceback (most recent call last)",
      "Cell \u001b[1;32mIn[8], line 3\u001b[0m\n\u001b[0;32m      1\u001b[0m \u001b[38;5;66;03m# 3. Using a value that is out of range for a function's input\u001b[39;00m\n\u001b[0;32m      2\u001b[0m \u001b[38;5;28;01mimport\u001b[39;00m \u001b[38;5;21;01mmath\u001b[39;00m\n\u001b[1;32m----> 3\u001b[0m result \u001b[38;5;241m=\u001b[39m \u001b[43mmath\u001b[49m\u001b[38;5;241;43m.\u001b[39;49m\u001b[43msqrt\u001b[49m\u001b[43m(\u001b[49m\u001b[38;5;241;43m-\u001b[39;49m\u001b[38;5;241;43m1.0\u001b[39;49m\u001b[43m)\u001b[49m\n\u001b[0;32m      4\u001b[0m \u001b[38;5;28mprint\u001b[39m()\n",
      "\u001b[1;31mValueError\u001b[0m: math domain error"
     ]
    }
   ],
   "source": [
    "# 3. Using a value that is out of range for a function's input\n",
    "import math\n",
    "result = math.sqrt(-1.0)\n",
    "print()"
   ]
  },
  {
   "cell_type": "code",
   "execution_count": 9,
   "id": "e0c539a5",
   "metadata": {},
   "outputs": [
    {
     "ename": "NameError",
     "evalue": "name 'x' is not defined",
     "output_type": "error",
     "traceback": [
      "\u001b[1;31m---------------------------------------------------------------------------\u001b[0m",
      "\u001b[1;31mNameError\u001b[0m                                 Traceback (most recent call last)",
      "Cell \u001b[1;32mIn[9], line 2\u001b[0m\n\u001b[0;32m      1\u001b[0m \u001b[38;5;66;03m# 4. Using an undeclared variable\u001b[39;00m\n\u001b[1;32m----> 2\u001b[0m \u001b[38;5;28mprint\u001b[39m(\u001b[43mx\u001b[49m)\n\u001b[0;32m      3\u001b[0m \u001b[38;5;28mprint\u001b[39m()\n",
      "\u001b[1;31mNameError\u001b[0m: name 'x' is not defined"
     ]
    }
   ],
   "source": [
    "# 4. Using an undeclared variable\n",
    "print(x)\n",
    "print()"
   ]
  },
  {
   "cell_type": "code",
   "execution_count": 10,
   "id": "a64e90b5",
   "metadata": {},
   "outputs": [
    {
     "ename": "FileNotFoundError",
     "evalue": "[Errno 2] No such file or directory: 'nonexistent_file.txt'",
     "output_type": "error",
     "traceback": [
      "\u001b[1;31m---------------------------------------------------------------------------\u001b[0m",
      "\u001b[1;31mFileNotFoundError\u001b[0m                         Traceback (most recent call last)",
      "Cell \u001b[1;32mIn[10], line 2\u001b[0m\n\u001b[0;32m      1\u001b[0m \u001b[38;5;66;03m# 5. Trying to open a file that does not exist\u001b[39;00m\n\u001b[1;32m----> 2\u001b[0m file \u001b[38;5;241m=\u001b[39m \u001b[38;5;28;43mopen\u001b[39;49m\u001b[43m(\u001b[49m\u001b[38;5;124;43m'\u001b[39;49m\u001b[38;5;124;43mnonexistent_file.txt\u001b[39;49m\u001b[38;5;124;43m'\u001b[39;49m\u001b[43m,\u001b[49m\u001b[43m \u001b[49m\u001b[38;5;124;43m'\u001b[39;49m\u001b[38;5;124;43mr\u001b[39;49m\u001b[38;5;124;43m'\u001b[39;49m\u001b[43m)\u001b[49m\n\u001b[0;32m      3\u001b[0m \u001b[38;5;28mprint\u001b[39m()\n",
      "File \u001b[1;32m~\\anaconda3\\lib\\site-packages\\IPython\\core\\interactiveshell.py:282\u001b[0m, in \u001b[0;36m_modified_open\u001b[1;34m(file, *args, **kwargs)\u001b[0m\n\u001b[0;32m    275\u001b[0m \u001b[38;5;28;01mif\u001b[39;00m file \u001b[38;5;129;01min\u001b[39;00m {\u001b[38;5;241m0\u001b[39m, \u001b[38;5;241m1\u001b[39m, \u001b[38;5;241m2\u001b[39m}:\n\u001b[0;32m    276\u001b[0m     \u001b[38;5;28;01mraise\u001b[39;00m \u001b[38;5;167;01mValueError\u001b[39;00m(\n\u001b[0;32m    277\u001b[0m         \u001b[38;5;124mf\u001b[39m\u001b[38;5;124m\"\u001b[39m\u001b[38;5;124mIPython won\u001b[39m\u001b[38;5;124m'\u001b[39m\u001b[38;5;124mt let you open fd=\u001b[39m\u001b[38;5;132;01m{\u001b[39;00mfile\u001b[38;5;132;01m}\u001b[39;00m\u001b[38;5;124m by default \u001b[39m\u001b[38;5;124m\"\u001b[39m\n\u001b[0;32m    278\u001b[0m         \u001b[38;5;124m\"\u001b[39m\u001b[38;5;124mas it is likely to crash IPython. If you know what you are doing, \u001b[39m\u001b[38;5;124m\"\u001b[39m\n\u001b[0;32m    279\u001b[0m         \u001b[38;5;124m\"\u001b[39m\u001b[38;5;124myou can use builtins\u001b[39m\u001b[38;5;124m'\u001b[39m\u001b[38;5;124m open.\u001b[39m\u001b[38;5;124m\"\u001b[39m\n\u001b[0;32m    280\u001b[0m     )\n\u001b[1;32m--> 282\u001b[0m \u001b[38;5;28;01mreturn\u001b[39;00m io_open(file, \u001b[38;5;241m*\u001b[39margs, \u001b[38;5;241m*\u001b[39m\u001b[38;5;241m*\u001b[39mkwargs)\n",
      "\u001b[1;31mFileNotFoundError\u001b[0m: [Errno 2] No such file or directory: 'nonexistent_file.txt'"
     ]
    }
   ],
   "source": [
    "# 5. Trying to open a file that does not exist\n",
    "file = open('nonexistent_file.txt', 'r')\n",
    "print()"
   ]
  },
  {
   "cell_type": "markdown",
   "id": "56b227a0",
   "metadata": {},
   "source": [
    "## Q. 10\n",
    "#### Encryption is the process of hiding the meaning of a text by substituting letters in the message with other letters, according to some system. If the process is successful, no one but the intended recipient can understand the encrypted message. Cryptanalysis refers to attempts to undo the encryption, even if some details of the encryption are unknown (for example, if an encrypted message has been intercepted). The first step of cryptanalysis is often to build up a table of letter frequencies in the encrypted text. Assume that the string letters is already defined as 'abcdefghijklmnopqrstuvwxyz'. Write a function called frequencies() that takes a string as its only parameter, and returns a list of integers, showing the number of times each character appears in the text. Your function may ignore any characters that are not in letters.\n",
    "#### >>> frequencies('The quick red fox got bored and went home.')\n",
    ">[1, 1, 1, 3, 5, 1, 1, 2, 1, 0, 1, 0, 1, 2, 4, 0, 1, 2, 0, 2, 1, 0, 1, 1, 0, 0]\n",
    "#### >>> frequencies('apple')"
   ]
  },
  {
   "cell_type": "code",
   "execution_count": 2,
   "id": "4eb68a41",
   "metadata": {},
   "outputs": [
    {
     "name": "stdout",
     "output_type": "stream",
     "text": [
      "Encryption of The quick red fox got bored and went home :  [1, 1, 1, 3, 5, 1, 1, 2, 1, 0, 1, 0, 1, 2, 4, 0, 1, 2, 0, 3, 1, 0, 1, 1, 0, 0]\n",
      "Encryption of apple :  [1, 0, 0, 0, 1, 0, 0, 0, 0, 0, 0, 1, 0, 0, 0, 2, 0, 0, 0, 0, 0, 0, 0, 0, 0, 0]\n"
     ]
    }
   ],
   "source": [
    "def frequencies(text):\n",
    "    letters = 'abcdefghijklmnopqrstuvwxyz'\n",
    "    frequency_list = [0] * 26  # Initialize a list of zeros with length 26\n",
    "\n",
    "    # Convert the text to lowercase and iterate over each character\n",
    "    for char in text.lower():\n",
    "        if char in letters:\n",
    "            index = letters.index(char)  \n",
    "            frequency_list[index] += 1  \n",
    "\n",
    "    return frequency_list\n",
    "\n",
    "# Test the function\n",
    "print(\"Encryption of The quick red fox got bored and went home : \",frequencies('The quick red fox got bored and went home'))\n",
    "print(\"Encryption of apple : \",frequencies('apple'))\n"
   ]
  },
  {
   "cell_type": "code",
   "execution_count": null,
   "id": "2307d70a",
   "metadata": {},
   "outputs": [],
   "source": []
  }
 ],
 "metadata": {
  "kernelspec": {
   "display_name": "Python 3 (ipykernel)",
   "language": "python",
   "name": "python3"
  },
  "language_info": {
   "codemirror_mode": {
    "name": "ipython",
    "version": 3
   },
   "file_extension": ".py",
   "mimetype": "text/x-python",
   "name": "python",
   "nbconvert_exporter": "python",
   "pygments_lexer": "ipython3",
   "version": "3.10.9"
  }
 },
 "nbformat": 4,
 "nbformat_minor": 5
}
